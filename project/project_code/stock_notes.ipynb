{
 "cells": [
  {
   "attachments": {},
   "cell_type": "markdown",
   "metadata": {},
   "source": [
    "# Notes for our stock project\n",
    "\n",
    "## Goals:\n",
    "\n",
    "* We will create a program that will import the stock data for a given, inputted ticket\n",
    "* This stock data can be shown in graphs, or specific variables can be called upon if requested. Will automatically display the most relevant statistics\n",
    "* We will then have the ability to build a function that would be able to correlate two tickers based on their historical movements\n",
    "* Finally, given a risk preference of low, medium, or high & a given $amt to invest, we will have a function that would automatically build a portfolio for an investor. There could also be some detailed information on the portfolio's compostion of each stock and its relevant stats."
   ]
  },
  {
   "attachments": {},
   "cell_type": "markdown",
   "metadata": {},
   "source": [
    "## STEP 0: Interface\n",
    "\n",
    "Before beginning all my data collection & manipulation, I wanted to work on the initial interface where the user would be given information about the program, could input the ticker to collect & review its data, and to build their own portfolio. Thus, the inital phases of this project were simply creating each skeleton function for the intro, the \"main\" page, and the two main functions of the tickers & the portfolio builder.\n"
   ]
  },
  {
   "cell_type": "code",
   "execution_count": 5,
   "metadata": {},
   "outputs": [],
   "source": [
    "def main():\n",
    "    print(\"Hello!\")\n",
    "    print(\"For info about the program, type: 'info'\")\n",
    "    print(\"To look up different assets' information, type: 'tick'\")\n",
    "    print(\"To build a diversifed portfolio, type: 'build'\")\n",
    "    print(\"To exit at any time, type: 'exit'\")\n",
    "\n",
    "    while True:\n",
    "        program_info = input()\n",
    "        if program_info == \"info\":\n",
    "            info()\n",
    "        elif program_info == \"tick\":\n",
    "            tick()\n",
    "        elif program_info == \"build\":\n",
    "            build()\n",
    "        elif program_info == \"exit\":\n",
    "            print(\"Have a great day!\")\n",
    "            return False\n",
    "        \n",
    "def info() -> None:\n",
    "    print(\"This program will allow you to do the following: \")\n",
    "    print(\"- See different assets, their relevant statistics, and accompanying graphs\")\n",
    "    print(\"- Cross compare multiple tickers & see their approximated correlation\")\n",
    "    print(\"- Based on an inputted risk preference of 'low,' 'medium,', or 'high,' and a given $ amount, this program will auto-generate you a diversified portfolio.\")"
   ]
  },
  {
   "attachments": {},
   "cell_type": "markdown",
   "metadata": {},
   "source": [
    "## STEP 1.1: Retrieving Stock Data\n",
    "\n",
    "We make use of the built-in yfinance library. However, I quickly found out there was a lot of issues when trying to use the .info() method call on any given ticker, which made the initial phase of the project much more difficult than anticipated. I browsed on the internet to read about different ways to download stock data, and the .download() method call and .history() method call seemed to be the most effective choices. The first part of this is shown below, where these two functions would allow someone to input a ticker -- the difficult part I had to figure out how to solve was when there was a ticker that did not exist on the stock market, \"APAL\" is an example."
   ]
  },
  {
   "cell_type": "code",
   "execution_count": 6,
   "metadata": {},
   "outputs": [],
   "source": [
    "import yfinance as yf\n",
    "\n",
    "def tick() -> None:\n",
    "    ticker: str = input(\"Enter 1 or more tickers, separated by commas: \")\n",
    "    if tick_tester(ticker) == True:\n",
    "        tickers = undelimit(ticker)\n",
    "        statistics(tickers)\n",
    "        stock_data(tickers)\n",
    "    else:\n",
    "        print(f\"'{ticker}' is not a valid ticker symbol.\")\n",
    "\n",
    "\n",
    "def tick_tester(given_tick: str) -> bool:\n",
    "    start_date = '2022-03-14'\n",
    "    end_date = '2023-03-14'\n",
    "    list_of_tickers = undelimit(given_tick)\n",
    "    for ticker_symbol in list_of_tickers:\n",
    "        try:\n",
    "            ticker = yf.Ticker(ticker_symbol.strip())\n",
    "            df = ticker.history(start=start_date, end=end_date)\n",
    "            if df.empty:\n",
    "                return False\n",
    "        except:\n",
    "            return False\n",
    "    return True"
   ]
  },
  {
   "attachments": {},
   "cell_type": "markdown",
   "metadata": {},
   "source": [
    "This code was fine to start with, but I quickly realized after creating it that I would need to be able to test for multiple inputted tickers so that an investor can view them all in a table, side-by-side. Thus, I had to mess with the code in order to convert the given input (which is a string) and convert it into a list of strings, so that I can go through each ticker and determine if it existed in the yfinance library, same as before. The undelimit function is one that I imported from my comp110 class that we made & reviewed on a quiz. I struggled a lot with this part initially, but once I realized I had to convert the `str` to a `list[str]`, I was able to tackle this part much quicker."
   ]
  },
  {
   "attachments": {},
   "cell_type": "markdown",
   "metadata": {},
   "source": [
    "## STEP 2: Relevant statistics, graphs, & display\n",
    "\n",
    "In the second part of this phase, my goal was to have the stock print all of its relevant statistics to an investor be default, and retrieve/exclude certain stats if directed to do so. Thus, the first step was to determine what were the important default stats I wanted a prospective investor to see. I knew from my financial economics class that standard deviation, expected return, risk premium were all very important.\n",
    "\n",
    "Further, I went searching online to see what other statistics might be of relevance. I determined for the default settings, we would also include: (list...)\n",
    "\n",
    "This inital function is one that takes in the inputted tickers (which we determined to exist, see code above) & gives the user a default table of their most relevant/important statistics to an investor."
   ]
  },
  {
   "cell_type": "code",
   "execution_count": 9,
   "metadata": {},
   "outputs": [],
   "source": [
    "def list_of_lists(*args):\n",
    "    return [list(item) for item in zip(*args)]\n",
    "\n",
    "def statistics(x: list[str]) -> None:\n",
    "    \"\"\"Given a list of tickers, we can gather all their relevant stats and put them through list_of_lists.\"\"\"\n",
    "\n",
    "def stock_data(tickers: list[str]) -> None:\n",
    "    \"\"\"Given tickers, create default statistics displayed.\"\"\"\n",
    "    list_of_lists(tickers)\n"
   ]
  },
  {
   "attachments": {},
   "cell_type": "markdown",
   "metadata": {},
   "source": [
    "For calculating expected return,  my old financial economics notes tell me that we need to sum: \n",
    "* sum[ HPR of scenario i ((ending share price (yr) - beginning share price (yr) + dividend)/beginning price) * probability of scenario i ]\n",
    "\n",
    "For calculating standard deviation, we need to take the square root of the sum:\n",
    "* sqrt(sum[ probability of scenario i * (HPR of scenario i - expected return of scenario i)^2 ])"
   ]
  },
  {
   "attachments": {},
   "cell_type": "markdown",
   "metadata": {},
   "source": [
    "## STEP 3: Correlation function\n",
    "\n",
    "In this step, the goal was to create a correlation function which using Pearson's correlation coefficient, we would determine the corr between two tickers as a step into creating a diversified portfolio. The usage of historical data & comparing statistics helps create an approximation of the correlations."
   ]
  },
  {
   "cell_type": "code",
   "execution_count": null,
   "metadata": {},
   "outputs": [],
   "source": [
    "def pearson_correlation(x, y):\n",
    "    \"\"\"Calculate Pearson correlation coefficient between two variables.\"\"\"\n",
    "    x = np.array(x).astype(float)\n",
    "    y = np.array(y).astype(float)\n",
    "    N = len(x)\n",
    "    mean_x = np.mean(x)\n",
    "    mean_y = np.mean(y)\n",
    "    std_x = np.std(x)\n",
    "    std_y = np.std(y)\n",
    "    num = np.sum((x - mean_x) * (y - mean_y))\n",
    "    denom = (N - 1) * std_x * std_y\n",
    "    return num / denom"
   ]
  },
  {
   "attachments": {},
   "cell_type": "markdown",
   "metadata": {},
   "source": [
    "## STEP 4: Portfolio Generator\n",
    "\n",
    "The final part of this project was to create a diversified portfolio generator based on a given individual's risk preference of low, medium, or high, & their given $ amount they wanted to invest. The previous correlation function is instrumental in this step, because to create an optimized portfolio, we want stocks with minimum correlations to one another."
   ]
  },
  {
   "cell_type": "code",
   "execution_count": null,
   "metadata": {},
   "outputs": [],
   "source": []
  }
 ],
 "metadata": {
  "kernelspec": {
   "display_name": "Python 3",
   "language": "python",
   "name": "python3"
  },
  "language_info": {
   "codemirror_mode": {
    "name": "ipython",
    "version": 3
   },
   "file_extension": ".py",
   "mimetype": "text/x-python",
   "name": "python",
   "nbconvert_exporter": "python",
   "pygments_lexer": "ipython3",
   "version": "3.9.13"
  },
  "orig_nbformat": 4
 },
 "nbformat": 4,
 "nbformat_minor": 2
}
