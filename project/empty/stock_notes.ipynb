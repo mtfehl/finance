{
 "cells": [
  {
   "attachments": {},
   "cell_type": "markdown",
   "metadata": {},
   "source": [
    "# Notes for our stock project\n",
    "\n",
    "## Goals:\n",
    "\n",
    "* We will create a program that will import the stock data for a given, inputted ticket\n",
    "* This stock data can be shown in graphs, or specific variables can be called upon if requested. Will automatically display the most relevant statistics\n",
    "* We will then have the ability to build a function that would be able to correlate two tickers based on their historical movements\n",
    "* Finally, given a risk preference of low, medium, or high & a given $amt to invest, we will have a function that would automatically build a portfolio for an investor. There could also be some detailed information on the portfolio's compostion of each stock and its relevant stats."
   ]
  },
  {
   "attachments": {},
   "cell_type": "markdown",
   "metadata": {},
   "source": [
    "# Step 1: Imported Stock Data"
   ]
  },
  {
   "cell_type": "code",
   "execution_count": null,
   "metadata": {},
   "outputs": [],
   "source": [
    "from stock_tracker import read_stock_csv\n",
    "\n"
   ]
  }
 ],
 "metadata": {
  "kernelspec": {
   "display_name": "Python 3",
   "language": "python",
   "name": "python3"
  },
  "language_info": {
   "name": "python",
   "version": "3.10.10"
  },
  "orig_nbformat": 4
 },
 "nbformat": 4,
 "nbformat_minor": 2
}
